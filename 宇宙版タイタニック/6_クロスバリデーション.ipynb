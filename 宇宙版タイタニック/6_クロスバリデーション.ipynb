{
 "cells": [
  {
   "cell_type": "markdown",
   "metadata": {},
   "source": [
    "# ライブラリのインポート"
   ]
  },
  {
   "cell_type": "code",
   "execution_count": 1,
   "metadata": {},
   "outputs": [],
   "source": [
    "import pandas as pd\n",
    "import numpy as np\n",
    "import matplotlib.pyplot as plt\n",
    "import seaborn as sns\n",
    "from sklearn.model_selection import train_test_split\n",
    "from sklearn.metrics import accuracy_score\n",
    "from sklearn.metrics import f1_score\n",
    "from sklearn.metrics import precision_score\n",
    "from sklearn.metrics import recall_score\n",
    "from sklearn.metrics import confusion_matrix\n",
    "from sklearn.metrics import mean_absolute_error\n",
    "from sklearn.preprocessing import LabelEncoder\n",
    "from sklearn.model_selection import KFold\n",
    "import xgboost as xgb\n",
    "import lightgbm as lgb\n",
    "import shap\n",
    "from sklearn.metrics import log_loss\n"
   ]
  },
  {
   "cell_type": "markdown",
   "metadata": {},
   "source": [
    "# 特徴量エンジニアリング\n",
    "1. 使わない特徴量を削除\n",
    "2. カテゴリカルデータをラベルエンコーディング \n",
    "3. 欠損値を埋める。(LightGBM)\n",
    "4. データの特性から特徴量を追加\n",
    "\n"
   ]
  },
  {
   "cell_type": "code",
   "execution_count": 2,
   "metadata": {},
   "outputs": [],
   "source": [
    "df = pd.read_csv(\"train.csv\")"
   ]
  },
  {
   "cell_type": "code",
   "execution_count": 3,
   "metadata": {},
   "outputs": [],
   "source": [
    "cabin_split = df['Cabin'].str.split('/', expand=True)\n",
    "# Deck 列を作成\n",
    "df['Deck'] = cabin_split[0]    \n",
    "# Side 列を作成し、条件に基づいて数値を割り当て\n",
    "df['Side'] = cabin_split[2].map({'P': True, 'S': False})\n",
    "df['Side'] = df['Side'].astype(bool)\n",
    "\n",
    "# PassengerId から GroupID と Person Number を抽出\n",
    "df['GroupID'] = df['PassengerId'].apply(lambda x: x.split('_')[0])\n",
    "# Group Size を計算\n",
    "group_sizes = df.groupby('GroupID').size()\n",
    "df['GroupSize'] = df['GroupID'].apply(lambda x: group_sizes[x])\n",
    "# Is Alone 特徴量を追加\n",
    "df['IsAlone'] = (df['GroupSize'] == 1).astype(int)"
   ]
  },
  {
   "cell_type": "code",
   "execution_count": 4,
   "metadata": {},
   "outputs": [],
   "source": [
    "drop_cols = ['PassengerId', 'Cabin', 'Name','GroupID']\n",
    "cat_cols = ['HomePlanet', 'CryoSleep', 'Destination','VIP','Deck','Side', 'IsAlone' ,'GroupSize']"
   ]
  },
  {
   "cell_type": "code",
   "execution_count": 5,
   "metadata": {},
   "outputs": [],
   "source": [
    "# import seaborn as sns\n",
    "# import matplotlib.pyplot as plt\n",
    "\n",
    "# # カラム数に基づいて行と列の数を設定\n",
    "\n",
    "# cols = 3  # 3列で表示\n",
    "# rows = (len(cat_cols) + cols - 1) // cols  # 必要な行数を計算\n",
    "\n",
    "# # サブプロットの設定\n",
    "# fig, axes = plt.subplots(rows, cols, figsize=(12, 5 * rows))  # 各サブプロットのサイズを調整\n",
    "# axes = axes.flatten()  # 1Dに変換してインデックスでアクセスしやすくする\n",
    "\n",
    "# # 各カラムについてプロット\n",
    "# for i, name in enumerate(cat_cols):\n",
    "#     sns.countplot(x=name, hue='Transported', data=df, ax=axes[i])\n",
    "#     axes[i].set_title(f'{name} vs. Transported')\n",
    "#     axes[i].tick_params(axis='x', rotation=45)  # x軸のラベルを回転して表示\n",
    "\n",
    "# # 余分なサブプロットを非表示\n",
    "# for j in range(i + 1, len(axes)):\n",
    "#     axes[j].axis('off')\n",
    "\n",
    "# plt.tight_layout()\n",
    "# plt.show()\n"
   ]
  },
  {
   "cell_type": "code",
   "execution_count": 6,
   "metadata": {},
   "outputs": [],
   "source": [
    "df_drop = df.drop(drop_cols, axis=1)"
   ]
  },
  {
   "cell_type": "code",
   "execution_count": 7,
   "metadata": {},
   "outputs": [],
   "source": [
    "# RoomService の欠損値を条件に基づいて埋める\n",
    "df_drop['RoomService'] = df_drop.apply(\n",
    "    lambda row: 0 if pd.isna(row['RoomService']) and row['CryoSleep'] else row['RoomService'],\n",
    "    axis=1\n",
    ")\n"
   ]
  },
  {
   "cell_type": "code",
   "execution_count": 8,
   "metadata": {},
   "outputs": [],
   "source": [
    "for c in cat_cols:\n",
    "    le = LabelEncoder()\n",
    "    le.fit(df_drop[c])\n",
    "    df_drop[c] = le.transform(df_drop[c])\n",
    "\n",
    "for c in cat_cols:\n",
    "    df_drop[c] = df_drop[c].astype('category')"
   ]
  },
  {
   "cell_type": "code",
   "execution_count": 9,
   "metadata": {},
   "outputs": [
    {
     "name": "stdout",
     "output_type": "stream",
     "text": [
      "----------------------------------------------------------------------------------------------------\n",
      "Age\n",
      "[LightGBM] [Info] Auto-choosing row-wise multi-threading, the overhead of testing was 0.008068 seconds.\n",
      "You can set `force_row_wise=true` to remove the overhead.\n",
      "And if memory is not enough, you can set `force_col_wise=true`.\n",
      "[LightGBM] [Info] Total Bins 1317\n",
      "[LightGBM] [Info] Number of data points in the train set: 6811, number of used features: 13\n",
      "[LightGBM] [Info] Start training from score 28.770518\n",
      "Training until validation scores don't improve for 100 rounds\n",
      "Early stopping, best iteration is:\n",
      "[30]\ttrain's l2: 150.751\tvalid's l2: 166.763\n",
      "----------------------------------------------------------------------------------------------------\n",
      "RoomService\n",
      "[LightGBM] [Info] Auto-choosing row-wise multi-threading, the overhead of testing was 0.004180 seconds.\n",
      "You can set `force_row_wise=true` to remove the overhead.\n",
      "And if memory is not enough, you can set `force_col_wise=true`.\n",
      "[LightGBM] [Info] Total Bins 1172\n",
      "[LightGBM] [Info] Number of data points in the train set: 6865, number of used features: 13\n",
      "[LightGBM] [Info] Start training from score 228.005098\n",
      "Training until validation scores don't improve for 100 rounds\n",
      "Early stopping, best iteration is:\n",
      "[48]\ttrain's l2: 225302\tvalid's l2: 251329\n",
      "----------------------------------------------------------------------------------------------------\n",
      "FoodCourt\n",
      "[LightGBM] [Info] Auto-choosing col-wise multi-threading, the overhead of testing was 0.002069 seconds.\n",
      "You can set `force_col_wise=true` to remove the overhead.\n",
      "[LightGBM] [Info] Total Bins 1173\n",
      "[LightGBM] [Info] Number of data points in the train set: 6808, number of used features: 13\n",
      "[LightGBM] [Info] Start training from score 449.152027\n",
      "Training until validation scores don't improve for 100 rounds\n",
      "Early stopping, best iteration is:\n",
      "[37]\ttrain's l2: 893108\tvalid's l2: 2.0948e+06\n",
      "----------------------------------------------------------------------------------------------------\n",
      "ShoppingMall\n",
      "[LightGBM] [Info] Auto-choosing row-wise multi-threading, the overhead of testing was 0.001404 seconds.\n",
      "You can set `force_row_wise=true` to remove the overhead.\n",
      "And if memory is not enough, you can set `force_col_wise=true`.\n",
      "[LightGBM] [Info] Total Bins 1172\n",
      "[LightGBM] [Info] Number of data points in the train set: 6788, number of used features: 13\n",
      "[LightGBM] [Info] Start training from score 172.471126\n",
      "Training until validation scores don't improve for 100 rounds\n",
      "Early stopping, best iteration is:\n",
      "[35]\ttrain's l2: 217534\tvalid's l2: 286604\n",
      "----------------------------------------------------------------------------------------------------\n",
      "Spa\n",
      "[LightGBM] [Info] Auto-choosing row-wise multi-threading, the overhead of testing was 0.001525 seconds.\n",
      "You can set `force_row_wise=true` to remove the overhead.\n",
      "And if memory is not enough, you can set `force_col_wise=true`.\n",
      "[LightGBM] [Info] Total Bins 1172\n",
      "[LightGBM] [Info] Number of data points in the train set: 6808, number of used features: 13\n",
      "[LightGBM] [Info] Start training from score 313.425382\n",
      "Training until validation scores don't improve for 100 rounds\n",
      "Early stopping, best iteration is:\n",
      "[21]\ttrain's l2: 787522\tvalid's l2: 716235\n",
      "----------------------------------------------------------------------------------------------------\n",
      "VRDeck\n",
      "[LightGBM] [Info] Auto-choosing row-wise multi-threading, the overhead of testing was 0.001829 seconds.\n",
      "You can set `force_row_wise=true` to remove the overhead.\n",
      "And if memory is not enough, you can set `force_col_wise=true`.\n",
      "[LightGBM] [Info] Total Bins 1171\n",
      "[LightGBM] [Info] Number of data points in the train set: 6804, number of used features: 13\n",
      "[LightGBM] [Info] Start training from score 297.809965\n",
      "Training until validation scores don't improve for 100 rounds\n",
      "Early stopping, best iteration is:\n",
      "[25]\ttrain's l2: 589766\tvalid's l2: 1.0959e+06\n"
     ]
    }
   ],
   "source": [
    "columns_with_nulls = [col for col in df_drop.columns if df_drop[col].isna().any()]\n",
    "data = df_drop.drop(['Transported'], axis=1)\n",
    "for c in columns_with_nulls:\n",
    "    print('-'*100)\n",
    "    print(c)\n",
    "\n",
    "# 欠損値がある行とない行を分ける\n",
    "    train_data = data[data[c].notna()]\n",
    "    test_data = data[data[c].isna()]\n",
    "\n",
    "# 訓練データと検証データ\n",
    "    X_train, X_val, y_train, y_val = train_test_split(\n",
    "        train_data.drop(c, axis=1), \n",
    "        train_data[c],\n",
    "        test_size=0.2,\n",
    "        random_state=42\n",
    "    )\n",
    "    objective = 'multiclass' if c in ['HomePlanet', 'CryoSleep', 'Destination','VIP','Deck','Side', 'IsAlone' ,'GroupSize'] else 'regression'\n",
    "\n",
    "# LightGBMのパラメータ\n",
    "    params = {\n",
    "        'objective': objective,  # 目的変数が連続値の場合は'regression', カテゴリの場合は'multiclass'\n",
    "        'learning_rate': 0.1,\n",
    "        'lambda_l1' : 0.1,\n",
    "        'num_leaves': 20,\n",
    "        'random_state': 4\n",
    "    }\n",
    "\n",
    "# 訓練データセットを作成\n",
    "    dtrain = lgb.Dataset(X_train, label=y_train)\n",
    "    dval = lgb.Dataset(X_val, label=y_val, reference=dtrain)\n",
    "\n",
    "# モデルの訓練\n",
    "    model = lgb.train(params,\n",
    "                      dtrain,\n",
    "                      num_boost_round=10000,\n",
    "                      valid_sets=[dtrain, dval],\n",
    "                      valid_names=['train', 'valid'],\n",
    "                      callbacks=[lgb.early_stopping(100),\n",
    "                      lgb.log_evaluation(500)])\n",
    "\n",
    "# テストデータで欠損値を予測\n",
    "    predicted_values = model.predict(test_data.drop(c, axis=1))\n",
    "\n",
    "# 欠損値の予済結果を元のデータセットに埋める\n",
    "    data.loc[data[c].isna(), c] = predicted_values"
   ]
  },
  {
   "cell_type": "code",
   "execution_count": 10,
   "metadata": {},
   "outputs": [],
   "source": [
    "data['total_usage'] = data[['RoomService', 'FoodCourt', 'ShoppingMall', 'Spa']].sum(axis=1)\n",
    "data['is_youth'] = np.where(data['Age'] >= 40, 0, 1)\n",
    "\n"
   ]
  },
  {
   "cell_type": "markdown",
   "metadata": {},
   "source": [
    "# 訓練データの分割"
   ]
  },
  {
   "cell_type": "code",
   "execution_count": 11,
   "metadata": {},
   "outputs": [],
   "source": [
    "\n",
    "#X = df_drop.drop(['Transported'], axis=1)\n",
    "X = data\n",
    "y = df_drop['Transported']"
   ]
  },
  {
   "cell_type": "code",
   "execution_count": 12,
   "metadata": {},
   "outputs": [
    {
     "data": {
      "text/plain": [
       "'\\n最初にデータを訓練データとテストデータに分割\\n次に訓練データをさらに訓練データと検証データに分割\\nX_train, y_train : 訓練データ\\nX_val, y_val : 検証データ\\nX_test, y_test : テストデータ\\n'"
      ]
     },
     "execution_count": 12,
     "metadata": {},
     "output_type": "execute_result"
    }
   ],
   "source": [
    "X_train, X_test, y_train, y_test = train_test_split(X, y, test_size=0.2, shuffle=True, stratify=y, random_state=0 )\n",
    "\"\"\"\n",
    "最初にデータを訓練データとテストデータに分割\n",
    "次に訓練データをさらに訓練データと検証データに分割\n",
    "X_train, y_train : 訓練データ\n",
    "X_val, y_val : 検証データ\n",
    "X_test, y_test : テストデータ\n",
    "\"\"\""
   ]
  },
  {
   "cell_type": "markdown",
   "metadata": {},
   "source": [
    "# モデルの構築(クロスバリデーション)"
   ]
  },
  {
   "cell_type": "code",
   "execution_count": 13,
   "metadata": {},
   "outputs": [],
   "source": [
    "params = {\n",
    "    'objective': 'binary',\n",
    "    'num_leaves': 10,\n",
    "    'seed': 0,\n",
    "    'verbose': -1,\n",
    "}"
   ]
  },
  {
   "cell_type": "code",
   "execution_count": 14,
   "metadata": {},
   "outputs": [
    {
     "name": "stdout",
     "output_type": "stream",
     "text": [
      "Training until validation scores don't improve for 100 rounds\n",
      "Early stopping, best iteration is:\n",
      "[343]\ttrain's binary_logloss: 0.278369\tvalid's binary_logloss: 0.377027\n",
      "fold 1 logloss valid: 0.37703\n",
      "Training until validation scores don't improve for 100 rounds\n",
      "Early stopping, best iteration is:\n",
      "[167]\ttrain's binary_logloss: 0.328394\tvalid's binary_logloss: 0.368127\n",
      "fold 2 logloss valid: 0.36813\n",
      "Training until validation scores don't improve for 100 rounds\n",
      "Early stopping, best iteration is:\n",
      "[235]\ttrain's binary_logloss: 0.30402\tvalid's binary_logloss: 0.412744\n",
      "fold 3 logloss valid: 0.41274\n",
      "Training until validation scores don't improve for 100 rounds\n",
      "Early stopping, best iteration is:\n",
      "[101]\ttrain's binary_logloss: 0.351977\tvalid's binary_logloss: 0.415968\n",
      "fold 4 logloss valid: 0.41597\n",
      "Training until validation scores don't improve for 100 rounds\n",
      "Early stopping, best iteration is:\n",
      "[175]\ttrain's binary_logloss: 0.327097\tvalid's binary_logloss: 0.371737\n",
      "fold 5 logloss valid: 0.37174\n",
      "Training until validation scores don't improve for 100 rounds\n",
      "Early stopping, best iteration is:\n",
      "[95]\ttrain's binary_logloss: 0.352544\tvalid's binary_logloss: 0.434403\n",
      "fold 6 logloss valid: 0.43440\n",
      "Training until validation scores don't improve for 100 rounds\n",
      "Early stopping, best iteration is:\n",
      "[90]\ttrain's binary_logloss: 0.355177\tvalid's binary_logloss: 0.423409\n",
      "fold 7 logloss valid: 0.42341\n",
      "Training until validation scores don't improve for 100 rounds\n",
      "Early stopping, best iteration is:\n",
      "[149]\ttrain's binary_logloss: 0.335634\tvalid's binary_logloss: 0.390922\n",
      "fold 8 logloss valid: 0.39092\n",
      "Training until validation scores don't improve for 100 rounds\n",
      "Early stopping, best iteration is:\n",
      "[147]\ttrain's binary_logloss: 0.337933\tvalid's binary_logloss: 0.376702\n",
      "fold 9 logloss valid: 0.37670\n",
      "Training until validation scores don't improve for 100 rounds\n",
      "Early stopping, best iteration is:\n",
      "[110]\ttrain's binary_logloss: 0.349983\tvalid's binary_logloss: 0.401761\n",
      "fold 10 logloss valid: 0.40176\n"
     ]
    }
   ],
   "source": [
    "\n",
    "def crossVal(X_train, y_train, params):\n",
    "    # 格納用データの作成\n",
    "    valid_scores = []\n",
    "    models = []\n",
    "    oof = np.zeros(len(X_train))\n",
    "\n",
    "    # KFoldを用いて学習データを5分割してモデルを作成\n",
    "    kf = KFold(n_splits=10, shuffle=True, random_state=0)\n",
    "    for fold, (tr_idx, va_idx) in enumerate(kf.split(X_train)):\n",
    "        X_tr = X_train.iloc[tr_idx]\n",
    "        X_va = X_train.iloc[va_idx]\n",
    "        y_tr = y_train.iloc[tr_idx]\n",
    "        y_va = y_train.iloc[va_idx]\n",
    "    \n",
    "        lgb_train = lgb.Dataset(X_tr, y_tr)\n",
    "        lgb_eval = lgb.Dataset(X_va, y_va, reference=lgb_train)\n",
    "\n",
    "        # 最適化ハイパーパラメータを読み込み\n",
    "        model = lgb.train(params,\n",
    "                      lgb_train,\n",
    "                      num_boost_round=10000,\n",
    "                      valid_sets=[lgb_train, lgb_eval],\n",
    "                      valid_names=['train', 'valid'],\n",
    "                      callbacks=[lgb.early_stopping(100),\n",
    "                      lgb.log_evaluation(500)])\n",
    "\n",
    "        y_va_pred = model.predict(X_va, num_iteration=model.best_iteration)\n",
    "        score = log_loss(y_va, y_va_pred)  # loglossで評価\n",
    "        print(f'fold {fold+1} logloss valid: {score:.5f}')  # 表示形式を調整\n",
    "\n",
    "        # スコア、モデル、予測値の格納\n",
    "        valid_scores.append(score)\n",
    "        models.append(model)\n",
    "        oof[va_idx] = y_va_pred\n",
    "    return valid_scores, models,oof\n",
    "\n",
    "# クロスバリデーションの平均スコア\n",
    "valid_scores, models,oof = crossVal(X_train, y_train, params)"
   ]
  },
  {
   "cell_type": "markdown",
   "metadata": {},
   "source": [
    "# テストデータで検証"
   ]
  },
  {
   "cell_type": "code",
   "execution_count": 15,
   "metadata": {},
   "outputs": [],
   "source": [
    "def predict(submi_data,models):\n",
    "    output = np.zeros_like(models[0].predict(submi_data))\n",
    "    for i in range(len(models)):\n",
    "        output += models[i].predict(submi_data)\n",
    "       \n",
    "        \n",
    "    output = output / len(models)\n",
    "    return np.round(output).astype(bool)"
   ]
  },
  {
   "cell_type": "code",
   "execution_count": 16,
   "metadata": {},
   "outputs": [
    {
     "name": "stdout",
     "output_type": "stream",
     "text": [
      "accuracy = 0.8102357677\n",
      "precision = 0.8390410959\n",
      "recall = 0.7954545455\n",
      "F1-score = 0.8166666667\n"
     ]
    }
   ],
   "source": [
    "ac_score = accuracy_score(predict(X_test,models), y_test)\n",
    "pr_score = precision_score(predict(X_test,models), y_test)\n",
    "rc_score = recall_score(predict(X_test,models),y_test)\n",
    "f1 = f1_score(predict(X_test,models), y_test)\n",
    "\n",
    "print('accuracy = %.10f' % (ac_score))\n",
    "print('precision = %.10f' % (pr_score))\n",
    "print('recall = %.10f' % (rc_score))\n",
    "print('F1-score = %.10f' % (f1))"
   ]
  }
 ],
 "metadata": {
  "kernelspec": {
   "display_name": "base",
   "language": "python",
   "name": "python3"
  },
  "language_info": {
   "codemirror_mode": {
    "name": "ipython",
    "version": 3
   },
   "file_extension": ".py",
   "mimetype": "text/x-python",
   "name": "python",
   "nbconvert_exporter": "python",
   "pygments_lexer": "ipython3",
   "version": "3.11.5"
  }
 },
 "nbformat": 4,
 "nbformat_minor": 2
}
